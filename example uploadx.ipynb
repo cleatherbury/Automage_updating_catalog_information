{
 "cells": [
  {
   "cell_type": "code",
   "execution_count": 7,
   "metadata": {},
   "outputs": [
    {
     "name": "stdout",
     "output_type": "stream",
     "text": [
      "Image <_io.BufferedReader name='/Users/chris/Documents/GitHub/Automage_updating_catalog_information/supplier-data/images/001.jpg'> uploaded successfully.\n"
     ]
    }
   ],
   "source": [
    "#!/usr/bin/env python3\n",
    "import requests\n",
    "\n",
    "# This example shows how a file can be uploaded using\n",
    "# The Python Requests module\n",
    "\n",
    "url = \"https://httpbin.org/post\"\n",
    "with open('/Users/chris/Documents/GitHub/Automage_updating_catalog_information/supplier-data/images/001.jpg', 'rb') as i:\n",
    "    r = requests.post(url, files={'file': i})\n",
    "    r.raise_for_status()\n",
    "    print(f\"Image {i} uploaded successfully.\")\n"
   ]
  }
 ],
 "metadata": {
  "kernelspec": {
   "display_name": "Python 3",
   "language": "python",
   "name": "python3"
  },
  "language_info": {
   "codemirror_mode": {
    "name": "ipython",
    "version": 3
   },
   "file_extension": ".py",
   "mimetype": "text/x-python",
   "name": "python",
   "nbconvert_exporter": "python",
   "pygments_lexer": "ipython3",
   "version": "3.10.1"
  },
  "orig_nbformat": 4
 },
 "nbformat": 4,
 "nbformat_minor": 2
}
