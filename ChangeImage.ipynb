{
 "cells": [
  {
   "cell_type": "code",
   "execution_count": 20,
   "metadata": {},
   "outputs": [
    {
     "name": "stdout",
     "output_type": "stream",
     "text": [
      "/Users/chris/Documents/GitHub/Automage_updating_catalog_information/supplier-data/images\n"
     ]
    }
   ],
   "source": [
    "#!/usr/bin/env python3\n",
    "from PIL import Image\n",
    "import os\n",
    "\n",
    "def change_image():\n",
    "  directory = os.getcwd() + '/supplier-data/images'\n",
    "  osld = os.listdir(directory)\n",
    "  print(directory)\n",
    "  for img in osld:\n",
    "    if 'tiff' in img:\n",
    "      path = os.path.join(directory, img)\n",
    "      new_path = os.path.join(directory, img)\n",
    "      new_path = os.path.splitext(new_path)[0] + '.jpg'\n",
    "      with Image.open(path) as t:\n",
    "        t.resize((600,400), Image.BICUBIC).convert('RGB').save(new_path, 'JPEG')\n",
    "\n",
    "def main():\n",
    "  change_image()\n",
    "\n",
    "__name__ == '__main__'\n",
    "main()"
   ]
  }
 ],
 "metadata": {
  "kernelspec": {
   "display_name": "Python 3",
   "language": "python",
   "name": "python3"
  },
  "language_info": {
   "codemirror_mode": {
    "name": "ipython",
    "version": 3
   },
   "file_extension": ".py",
   "mimetype": "text/x-python",
   "name": "python",
   "nbconvert_exporter": "python",
   "pygments_lexer": "ipython3",
   "version": "3.10.1"
  },
  "orig_nbformat": 4
 },
 "nbformat": 4,
 "nbformat_minor": 2
}
