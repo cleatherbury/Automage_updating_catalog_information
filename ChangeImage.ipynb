{
 "cells": [
  {
   "cell_type": "code",
   "execution_count": 2,
   "metadata": {},
   "outputs": [],
   "source": [
    "#!/usr/bin/env python3\n",
    "from PIL import Image\n",
    "import os, sys\n",
    "cwd = os.getcwd()\n",
    "fd = cwd + \"/supplier-data/images/\"\n",
    "osld = os.listdir(fd)\n",
    "  \n",
    "for img in osld:\n",
    "  if img.endswith('.tiff'):\n",
    "    fn = os.path.splitext(img)[0]\n",
    "    of = fd + fn + \".jpeg\"\n",
    "    try:\n",
    "      Image.open(fd + img).resize((600, 400)).convert('RGB').save(of, 'JPEG')\n",
    "    except IOError:\n",
    "      print(\"Conversion denied\", img)"
   ]
  }
 ],
 "metadata": {
  "kernelspec": {
   "display_name": "Python 3",
   "language": "python",
   "name": "python3"
  },
  "language_info": {
   "codemirror_mode": {
    "name": "ipython",
    "version": 3
   },
   "file_extension": ".py",
   "mimetype": "text/x-python",
   "name": "python",
   "nbconvert_exporter": "python",
   "pygments_lexer": "ipython3",
   "version": "3.11.4"
  },
  "orig_nbformat": 4
 },
 "nbformat": 4,
 "nbformat_minor": 2
}
