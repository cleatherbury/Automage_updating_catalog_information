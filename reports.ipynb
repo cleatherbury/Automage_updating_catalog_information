{
 "cells": [
  {
   "cell_type": "code",
   "execution_count": null,
   "metadata": {},
   "outputs": [],
   "source": [
    "#!/usr/bin/env python3\n",
    "\n",
    "from reportlab.platypus import SimpleDocTemplate\n",
    "from reportlab.platypus import Paragraph, Spacer, Table, Image\n",
    "from reportlab.lib.styles import getSampleStyleSheet\n",
    "from reportlab.lib import colors\n",
    "\n",
    "def generate_report(filename, title, paragraph):\n",
    "    styles = getSampleStyleSheet()\n",
    "    report = SimpleDocTemplate(filename)\n",
    "    report_title = Paragraph(title, styles[\"h1\"])\n",
    "    report_info = Paragraph(paragraph, styles[\"BodyText\"])\n",
    "    empty_line = Spacer(1,20)\n",
    "    report.build([report_title, empty_line, report_info, empty_line])"
   ]
  },
  {
   "cell_type": "code",
   "execution_count": null,
   "metadata": {},
   "outputs": [],
   "source": []
  }
 ],
 "metadata": {
  "kernelspec": {
   "display_name": "Python 3 (ipykernel)",
   "language": "python",
   "name": "python3"
  },
  "language_info": {
   "codemirror_mode": {
    "name": "ipython",
    "version": 3
   },
   "file_extension": ".py",
   "mimetype": "text/x-python",
   "name": "python",
   "nbconvert_exporter": "python",
   "pygments_lexer": "ipython3",
   "version": "3.11.4"
  }
 },
 "nbformat": 4,
 "nbformat_minor": 2
}
