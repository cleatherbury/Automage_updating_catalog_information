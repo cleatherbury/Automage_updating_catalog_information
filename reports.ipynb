{
 "cells": [
  {
   "cell_type": "code",
   "execution_count": 3,
   "metadata": {},
   "outputs": [
    {
     "name": "stdout",
     "output_type": "stream",
     "text": [
      "[{'name': 'Blackberry', 'weight': 150, 'description': 'Blackberries have high nutritional value and are excellent fruit for health. It’s rich in nutrients, various amino acids and trace elements necessary for the human body. They are good at promoting blood coagulation, delaying aging, improving immunity and reducing blood pressure and blood lipids. Blackberries can be consumed directly as fruit or made into jam and fruit wine.', 'image': '003jpeg'}, {'name': 'Avocado', 'weight': 200, 'description': 'Avocado contains large amount of oleic acid, a type of monounsaturated fat that can replace saturated fat in the diet, which is very effective in reducing cholesterol levels. Avocado is also high in fiber. Its soluble fiber can remove excess cholesterol from the body, while its insoluble fiber helps keep the digestive system functioning and prevent constipation.', 'image': '002jpeg'}, {'name': 'Apple', 'weight': 500, 'description': 'Apple is one of the most nutritious and healthiest fruits. It is very rich in antioxidants and dietary fiber. Moderate consumption can not only increase satiety, but also help promote bowel movements. Apple also contains minerals such as calcium and magnesium, which can help prevent and delay bone loss and maintain bone health. It is good for young and old.', 'image': '001jpeg'}, {'name': 'Kiwifruit', 'weight': 250, 'description': 'Kiwifruit contains rich vitamin C, which can strengthen the immune system and supplement the nutrients consumed by the brain. Its perfect ratio of low sodium and high potassium can replenish the energy lost by working long hours.', 'image': '005jpeg'}, {'name': 'Grape', 'weight': 200, 'description': 'Grapes have up to 30% of sugar. A large amount of fruit acid in grapes helps digestion. Eating proper amount of grapes can strengthen the spleen and stomach. Grapes also contain the minerals calcium, potassium, phosphorus, iron, glucose, fructose, protein, tartaric acid, and various vitamins, which have strong nutritional functions and improve the function of the human body.', 'image': '004jpeg'}, {'name': 'Watermelon', 'weight': 500, 'description': 'Watermelon is good for relieving heat, eliminating annoyance and quenching thirst. It contains a lot of water, which is good for relieving the symptoms of acute fever immediately. The sugar and salt contained in watermelon can diuretic and eliminate kidney inflammation. Watermelon also contains substances that can lower blood pressure.', 'image': '010jpeg'}, {'name': 'Lemon', 'weight': 300, 'description': 'Lemon is rich in vitamin C, which can improve immunity, accelerate wound healing and prevent colds. In the long run, it can lower the chance of developing cancer. Lemon juice helps reduce the burden on the digestive system and promotes the release of toxins from the body.', 'image': '006jpeg'}, {'name': 'Mango', 'weight': 300, 'description': 'Mango contains higher levels of vitamin C than ordinary fruits. Eating mango can also reduce cholesterol and triglycerides, and help prevent cardiovascular disease. Due to its high level of vitamins, regular consumption of mango play an important role in improving body function and moisturizing the skin.', 'image': '007jpeg'}, {'name': 'Strawberry', 'weight': 240, 'description': 'Strawberries are rich in carotene and vitamin A, which can alleviate night blindness, maintain the health of epithelial tissues, nourish the liver, and promote body growth and development. Strawberries contains large amount of dietary fiber as well, which can promote gastrointestinal motility and food digestion in the gastrointestinal tract.', 'image': '009jpeg'}, {'name': 'Plum', 'weight': 150, 'description': 'Plums are rich in sugar, vitamins, fruit acids, amino acids and other nutrients. With high nutritional value, Plums have outstanding health-care functions, which includes refreshing and nourishing liver, relieving depression and poisoning, and clearing dampness and heat of the human body.', 'image': '008jpeg'}]\n",
      "Blackberry<br/><br/> 150 lbs lbs<br/><br/> Avocado<br/><br/> 200 lbs lbs<br/><br/> Apple<br/><br/> 500 lbs lbs<br/><br/> Kiwifruit<br/><br/> 250 lbs lbs<br/><br/> Grape<br/><br/> 200 lbs lbs<br/><br/> Watermelon<br/><br/> 500 lbs lbs<br/><br/> Lemon<br/><br/> 300 lbs lbs<br/><br/> Mango<br/><br/> 300 lbs lbs<br/><br/> Strawberry<br/><br/> 240 lbs lbs<br/><br/> Plum<br/><br/> 150 lbs lbs<br/><br/> \n",
      "Blackberry<br/><br/> 150 lbs lbs<br/><br/> Avocado<br/><br/> 200 lbs lbs<br/><br/> Apple<br/><br/> 500 lbs lbs<br/><br/> Kiwifruit<br/><br/> 250 lbs lbs<br/><br/> Grape<br/><br/> 200 lbs lbs<br/><br/> Watermelon<br/><br/> 500 lbs lbs<br/><br/> Lemon<br/><br/> 300 lbs lbs<br/><br/> Mango<br/><br/> 300 lbs lbs<br/><br/> Strawberry<br/><br/> 240 lbs lbs<br/><br/> Plum<br/><br/> 150 lbs lbs<br/><br/> \n"
     ]
    }
   ],
   "source": [
    "#!/usr/bin/env python3\n",
    "\n",
    "from reportlab.platypus import SimpleDocTemplate\n",
    "from reportlab.platypus import Paragraph, Spacer, Table, Image\n",
    "from reportlab.lib.styles import getSampleStyleSheet\n",
    "from reportlab.lib import colors\n",
    "import datetime\n",
    "import os\n",
    "\n",
    "def create_dd(osld, fd):# Iterate over the files in the feedback directory\n",
    "  ddl = []\n",
    "  for fi in osld:\n",
    "    filepath = os.path.join(fd, fi)\n",
    "    if not fi.startswith('.'):\n",
    "      with open(filepath, \"r\") as f:\n",
    "      # Extract the title, name, date, and feedback \n",
    "        fruit = f.readline().strip()\n",
    "        weight = int(f.readline().strip().replace('lbs', ''))\n",
    "        description = f.read().strip()\n",
    "        img = os.path.splitext(fi)[0] + 'jpeg'\n",
    "        dd = {\"name\": fruit, \"weight\": weight, \"description\": description,\"image\": img}\n",
    "        ddl.append(dd)\n",
    "  print(ddl)  \n",
    "  return ddl\n",
    "\n",
    "\n",
    "  #\"\"\"Turns the data in dll into a list of lists.\"\"\"\n",
    "def json_dict(ddl):\n",
    "  body = ''\n",
    "  #\"\"\"Turns the data in data into a list of lists.\"\"\"\n",
    "  for item in ddl:\n",
    "    name = item['name']\n",
    "    #weight = f\"{item['weight']} lbs\"  # Use 'N/A' if 'weight' key is missing\n",
    "    weight = f\"{item['weight']} lbs\" if 'weight' in item else 'N/A'\n",
    "    entry = f\"{name}<br/><br/> {weight}<br/><br/>\"\n",
    "    body += entry\n",
    "  print(body)\n",
    "  return body\n",
    "\n",
    "\n",
    "\n",
    "def generate(filename, title, body):\n",
    "    styles = getSampleStyleSheet()\n",
    "    report = SimpleDocTemplate(filename)\n",
    "    report_title = Paragraph(title, styles[\"h1\"])\n",
    "    report_info = Paragraph(body, styles[\"BodyText\"])\n",
    "    #report_table = Table(data=table_data, style=table_style, hAlign=\"LEFT\")\n",
    "    empty_line = Spacer(1,20)\n",
    "    report.build([report_title, empty_line, report_info])\n",
    "\n",
    "def main():\n",
    "  #\"\"\"Process the JSON data and generate a full report out of it.\"\"\"\n",
    "  fd = os.path.join(os.getcwd(), 'supplier-data', 'descriptions')\n",
    "  osld = os.listdir(fd)\n",
    "  ddl = create_dd(osld, fd)\n",
    "  filename = '/tmp/processed.pdf'\n",
    "  title = f\"Processed Update on {datetime.datetime.today().date()}.\"\n",
    "  table_data = json_dict(ddl)\n",
    "  body = json_dict(ddl)\n",
    "  generate(filename, title, body)\n",
    "  \n",
    "\n",
    "if __name__ == '__main__':\n",
    "    main()"
   ]
  }
 ],
 "metadata": {
  "kernelspec": {
   "display_name": "Python 3",
   "language": "python",
   "name": "python3"
  },
  "language_info": {
   "codemirror_mode": {
    "name": "ipython",
    "version": 3
   },
   "file_extension": ".py",
   "mimetype": "text/x-python",
   "name": "python",
   "nbconvert_exporter": "python",
   "pygments_lexer": "ipython3",
   "version": "3.10.1"
  },
  "orig_nbformat": 4
 },
 "nbformat": 4,
 "nbformat_minor": 2
}
