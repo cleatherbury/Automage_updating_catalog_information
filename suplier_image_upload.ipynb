{
 "cells": [
  {
   "cell_type": "code",
   "execution_count": 2,
   "metadata": {},
   "outputs": [
    {
     "name": "stdout",
     "output_type": "stream",
     "text": [
      "Image 002.jpg uploaded successfully.\n",
      "Image 003.jpg uploaded successfully.\n",
      "Image 001.jpg uploaded successfully.\n",
      "Image 004.jpg uploaded successfully.\n",
      "Image 010.jpg uploaded successfully.\n",
      "Image 005.jpg uploaded successfully.\n",
      "Image 007.jpg uploaded successfully.\n",
      "Image 006.jpg uploaded successfully.\n",
      "Image 008.jpg uploaded successfully.\n",
      "Image 009.jpg uploaded successfully.\n"
     ]
    }
   ],
   "source": [
    "#!/usr/bin/env python3\n",
    "import os\n",
    "import requests\n",
    "\n",
    "def img_upload():\n",
    "  # This example shows how a file can be uploaded using\n",
    "  # The Python Requests module\n",
    "  fd = os.getcwd() + '/supplier-data/images'\n",
    "  osld = os.listdir(fd)\n",
    "  for i in osld:\n",
    "    filepath = os.path.join(fd, i)\n",
    "    url = \"https://httpbin.org/post\"\n",
    "    if filepath.endswith('.jpg'):\n",
    "      try:\n",
    "        with open(filepath, 'rb') as img:\n",
    "          files = {'file': img}\n",
    "          response = requests.post(url, files=files)\n",
    "          response.raise_for_status()  # Raise an exception if the request fails          \n",
    "          print(f\"Image {i} uploaded successfully.\")\n",
    "      except requests.exceptions.RequestException as e:\n",
    "          print(f\"Error uploading {i}: {e}\")\n",
    "\n",
    "def main():\n",
    "  img_upload()\n",
    "\n",
    "__name__ == '__main__'\n",
    "main()"
   ]
  }
 ],
 "metadata": {
  "kernelspec": {
   "display_name": "Python 3",
   "language": "python",
   "name": "python3"
  },
  "language_info": {
   "codemirror_mode": {
    "name": "ipython",
    "version": 3
   },
   "file_extension": ".py",
   "mimetype": "text/x-python",
   "name": "python",
   "nbconvert_exporter": "python",
   "pygments_lexer": "ipython3",
   "version": "3.10.1"
  },
  "orig_nbformat": 4
 },
 "nbformat": 4,
 "nbformat_minor": 2
}
