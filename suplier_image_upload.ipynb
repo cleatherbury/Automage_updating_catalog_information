{
 "cells": [
  {
   "cell_type": "code",
   "execution_count": 3,
   "metadata": {},
   "outputs": [
    {
     "name": "stdout",
     "output_type": "stream",
     "text": [
      "Image 002.jpg uploaded successfully.\n",
      "Image 003.jpg uploaded successfully.\n",
      "Image 001.jpg uploaded successfully.\n",
      "Image 004.jpg uploaded successfully.\n",
      "Image 010.jpg uploaded successfully.\n",
      "Image 005.jpg uploaded successfully.\n",
      "Image 007.jpg uploaded successfully.\n",
      "Image 006.jpg uploaded successfully.\n",
      "Image 008.jpg uploaded successfully.\n",
      "Image 009.jpg uploaded successfully.\n",
      "Images upload complete\n"
     ]
    }
   ],
   "source": [
    "#!/usr/bin/env python3\n",
    "import os, time\n",
    "import requests\n",
    "\n",
    "def img_upload():\n",
    "  \"\"\"This example shows how a file can be uploaded using the Python Requests module\"\"\"\n",
    "\n",
    "  max_retries = 5\n",
    "  retry_delay = 4\n",
    "  try_count = 0\n",
    "  for i in osld:\n",
    "    fp = os.path.join(fd, i)\n",
    "    if i.endswith('.jpg'):\n",
    "      #try_count = 0\n",
    "      while try_count < max_retries:\n",
    "        try:\n",
    "          with open(fp, 'rb') as img:\n",
    "            r = requests.post(url, files={'file' : img})\n",
    "            r.raise_for_status()  # Raise an exception if the request fails          \n",
    "            print(f\"Image {i} uploaded successfully.\")\n",
    "            try_count = 0\n",
    "            break\n",
    "        except requests.exceptions.RequestException as e:\n",
    "          print(f\"Error uploading {i}: {e}\")\n",
    "          if r.status_code == 504:\n",
    "            try_count += 1\n",
    "            print(f\"Retrying in {retry_delay} seconds...\")\n",
    "            time.sleep(retry_delay)\n",
    "          else:\n",
    "            break\n",
    "        else:\n",
    "          print(f\"failed to upload image {i} after {max_retries}\")\n",
    "if __name__ == '__main__':\n",
    "  fd = os.getcwd() + '/supplier-data/images'\n",
    "  osld = os.listdir(fd)\n",
    "  url = \"https://httpbin.org/anything\"\n",
    "  img_upload()\n",
    "  print('Images upload complete')"
   ]
  }
 ],
 "metadata": {
  "kernelspec": {
   "display_name": "Python 3 (ipykernel)",
   "language": "python",
   "name": "python3"
  },
  "language_info": {
   "codemirror_mode": {
    "name": "ipython",
    "version": 3
   },
   "file_extension": ".py",
   "mimetype": "text/x-python",
   "name": "python",
   "nbconvert_exporter": "python",
   "pygments_lexer": "ipython3",
   "version": "3.11.4"
  }
 },
 "nbformat": 4,
 "nbformat_minor": 2
}
