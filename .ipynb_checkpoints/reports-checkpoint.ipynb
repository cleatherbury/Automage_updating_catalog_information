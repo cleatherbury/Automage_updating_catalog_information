{
 "cells": [
  {
   "cell_type": "code",
   "execution_count": 1,
   "metadata": {},
   "outputs": [
    {
     "ename": "ModuleNotFoundError",
     "evalue": "No module named 'reportlab'",
     "output_type": "error",
     "traceback": [
      "\u001b[0;31m---------------------------------------------------------------------------\u001b[0m",
      "\u001b[0;31mModuleNotFoundError\u001b[0m                       Traceback (most recent call last)",
      "Cell \u001b[0;32mIn [1], line 3\u001b[0m\n\u001b[1;32m      1\u001b[0m \u001b[38;5;66;03m#!/usr/bin/env python3\u001b[39;00m\n\u001b[0;32m----> 3\u001b[0m \u001b[38;5;28;01mfrom\u001b[39;00m \u001b[38;5;21;01mreportlab\u001b[39;00m\u001b[38;5;21;01m.\u001b[39;00m\u001b[38;5;21;01mplatypus\u001b[39;00m \u001b[38;5;28;01mimport\u001b[39;00m SimpleDocTemplate\n\u001b[1;32m      4\u001b[0m \u001b[38;5;28;01mfrom\u001b[39;00m \u001b[38;5;21;01mreportlab\u001b[39;00m\u001b[38;5;21;01m.\u001b[39;00m\u001b[38;5;21;01mplatypus\u001b[39;00m \u001b[38;5;28;01mimport\u001b[39;00m Paragraph, Spacer, Table, Image\n\u001b[1;32m      5\u001b[0m \u001b[38;5;28;01mfrom\u001b[39;00m \u001b[38;5;21;01mreportlab\u001b[39;00m\u001b[38;5;21;01m.\u001b[39;00m\u001b[38;5;21;01mlib\u001b[39;00m\u001b[38;5;21;01m.\u001b[39;00m\u001b[38;5;21;01mstyles\u001b[39;00m \u001b[38;5;28;01mimport\u001b[39;00m getSampleStyleSheet\n",
      "\u001b[0;31mModuleNotFoundError\u001b[0m: No module named 'reportlab'"
     ]
    }
   ],
   "source": [
    "#!/usr/bin/env python3\n",
    "\n",
    "from reportlab.platypus import SimpleDocTemplate\n",
    "from reportlab.platypus import Paragraph, Spacer, Table, Image\n",
    "from reportlab.lib.styles import getSampleStyleSheet\n",
    "from reportlab.lib import colors\n",
    "import datetime\n",
    "import os\n",
    "\n",
    "#def create_dd(osld, fd):# Iterate over the files in the feedback directory\n",
    "  #ddl = []\n",
    "  #for fi in osld:\n",
    "    #filepath = os.path.join(fd, fi)\n",
    "    #if not fi.startswith('.'):\n",
    "      #with open(filepath, \"r\") as f:\n",
    "      # Extract the title, name, date, and feedback \n",
    "        #fruit = f.readline().strip()\n",
    "        #weight = int(f.readline().strip().replace('lbs', ''))\n",
    "        #description = f.read().strip()\n",
    "        #img = os.path.splitext(fi)[0] + 'jpeg'\n",
    "        #dd = {\"name\": fruit, \"weight\": weight, \"description\": description,\"image\": img}\n",
    "        #ddl.append(dd)\n",
    "  #print(ddl)  \n",
    "  #return ddl\n",
    "\n",
    "\n",
    "  #\"\"\"Turns the data in dll into a list of lists.\"\"\"\n",
    "def make_body(dictionary):\n",
    "  body = ''\n",
    "  #\"\"\"Turns the data in data into a list of lists.\"\"\"\n",
    "  for item in dictionary:\n",
    "    name = item['name']\n",
    "    #weight = f\"{item['weight']} lbs\"  # Use 'N/A' if 'weight' key is missing\n",
    "    weight = f\"{item['weight']} lbs\" if 'weight' in item else 'N/A'\n",
    "    entry = f\"{name}<br/><br/> {weight}<br/><br/>\"\n",
    "    body += entry\n",
    "  print(body)\n",
    "  return body\n",
    "\n",
    "\n",
    "\n",
    "def generate(filename, title, body):\n",
    "    styles = getSampleStyleSheet()\n",
    "    report = SimpleDocTemplate(filename)\n",
    "    report_title = Paragraph(title, styles[\"h1\"])\n",
    "    report_info = Paragraph(body, styles[\"BodyText\"])\n",
    "    #report_table = Table(data=table_data, style=table_style, hAlign=\"LEFT\")\n",
    "    empty_line = Spacer(1,20)\n",
    "    report.build([report_title, empty_line, report_info])\n",
    "\n",
    "def main():\n",
    "  #\"\"\"Process the JSON data and generate a full report out of it.\"\"\"\n",
    "  fd = os.path.join(os.getcwd(), 'supplier-data', 'descriptions')\n",
    "  osld = os.listdir(fd)\n",
    "  ddl = create_dd(osld, fd)\n",
    "  filename = '/tmp/processed.pdf'\n",
    "  title = f\"Processed Update on {datetime.datetime.today().date()}.\"\n",
    "  body = make_body(ddl)\n",
    "  generate(filename, title, body)\n",
    "  \n",
    "\n",
    "if __name__ == '__main__':\n",
    "    main()"
   ]
  },
  {
   "cell_type": "code",
   "execution_count": null,
   "metadata": {},
   "outputs": [],
   "source": []
  }
 ],
 "metadata": {
  "kernelspec": {
   "display_name": "Python 3 (ipykernel)",
   "language": "python",
   "name": "python3"
  },
  "language_info": {
   "codemirror_mode": {
    "name": "ipython",
    "version": 3
   },
   "file_extension": ".py",
   "mimetype": "text/x-python",
   "name": "python",
   "nbconvert_exporter": "python",
   "pygments_lexer": "ipython3",
   "version": "3.11.0"
  }
 },
 "nbformat": 4,
 "nbformat_minor": 2
}
