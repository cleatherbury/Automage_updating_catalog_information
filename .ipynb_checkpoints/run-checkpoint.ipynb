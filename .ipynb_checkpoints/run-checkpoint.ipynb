{
 "cells": [
  {
   "cell_type": "code",
   "execution_count": 1,
   "metadata": {},
   "outputs": [
    {
     "name": "stdout",
     "output_type": "stream",
     "text": [
      "/private/var/mobile/Library/Mobile Documents/com~apple~CloudDocs/Documents/GitHub/Automate_updating_catalog_information/supplier-data/images\n"
     ]
    },
    {
     "ename": "UnidentifiedImageError",
     "evalue": "cannot identify image file '/private/var/mobile/Library/Mobile Documents/com~apple~CloudDocs/Documents/GitHub/Automate_updating_catalog_information/supplier-data/images/.002.tiff.icloud'",
     "output_type": "error",
     "traceback": [
      "\u001b[0;31m---------------------------------------------------------------------------\u001b[0m",
      "\u001b[0;31mUnidentifiedImageError\u001b[0m                    Traceback (most recent call last)",
      "Cell \u001b[0;32mIn [1], line 5\u001b[0m\n\u001b[1;32m      3\u001b[0m \u001b[38;5;28;01mimport\u001b[39;00m \u001b[38;5;21;01mjson\u001b[39;00m\n\u001b[1;32m      4\u001b[0m \u001b[38;5;28;01mimport\u001b[39;00m \u001b[38;5;21;01mrequests\u001b[39;00m\n\u001b[0;32m----> 5\u001b[0m \u001b[38;5;28;01mfrom\u001b[39;00m \u001b[38;5;21;01mChangeImage\u001b[39;00m \u001b[38;5;28;01mimport\u001b[39;00m change_image\n\u001b[1;32m      6\u001b[0m \u001b[38;5;28;01mfrom\u001b[39;00m \u001b[38;5;21;01msupplier_image_upload\u001b[39;00m \u001b[38;5;28;01mimport\u001b[39;00m img_upload\n\u001b[1;32m      7\u001b[0m \u001b[38;5;28;01mfrom\u001b[39;00m \u001b[38;5;21;01mreports\u001b[39;00m \u001b[38;5;28;01mimport\u001b[39;00m make_body\n",
      "File \u001b[0;32m/private/var/mobile/Library/Mobile Documents/com~apple~CloudDocs/Documents/GitHub/Automate_updating_catalog_information/ChangeImage.py:21\u001b[0m\n\u001b[1;32m     18\u001b[0m   change_image()\n\u001b[1;32m     20\u001b[0m \u001b[38;5;18m__name__\u001b[39m \u001b[38;5;241m==\u001b[39m \u001b[38;5;124m'\u001b[39m\u001b[38;5;124m__main__\u001b[39m\u001b[38;5;124m'\u001b[39m\n\u001b[0;32m---> 21\u001b[0m \u001b[43mmain\u001b[49m\u001b[43m(\u001b[49m\u001b[43m)\u001b[49m\n",
      "File \u001b[0;32m/private/var/mobile/Library/Mobile Documents/com~apple~CloudDocs/Documents/GitHub/Automate_updating_catalog_information/ChangeImage.py:18\u001b[0m, in \u001b[0;36mmain\u001b[0;34m()\u001b[0m\n\u001b[1;32m     17\u001b[0m \u001b[38;5;28;01mdef\u001b[39;00m \u001b[38;5;21mmain\u001b[39m():\n\u001b[0;32m---> 18\u001b[0m   \u001b[43mchange_image\u001b[49m\u001b[43m(\u001b[49m\u001b[43m)\u001b[49m\n",
      "File \u001b[0;32m/private/var/mobile/Library/Mobile Documents/com~apple~CloudDocs/Documents/GitHub/Automate_updating_catalog_information/ChangeImage.py:14\u001b[0m, in \u001b[0;36mchange_image\u001b[0;34m()\u001b[0m\n\u001b[1;32m     12\u001b[0m new_path \u001b[38;5;241m=\u001b[39m os\u001b[38;5;241m.\u001b[39mpath\u001b[38;5;241m.\u001b[39mjoin(directory, img)\n\u001b[1;32m     13\u001b[0m new_path \u001b[38;5;241m=\u001b[39m os\u001b[38;5;241m.\u001b[39mpath\u001b[38;5;241m.\u001b[39msplitext(new_path)[\u001b[38;5;241m0\u001b[39m] \u001b[38;5;241m+\u001b[39m \u001b[38;5;124m'\u001b[39m\u001b[38;5;124m.jpg\u001b[39m\u001b[38;5;124m'\u001b[39m\n\u001b[0;32m---> 14\u001b[0m \u001b[38;5;28;01mwith\u001b[39;00m \u001b[43mImage\u001b[49m\u001b[38;5;241;43m.\u001b[39;49m\u001b[43mopen\u001b[49m\u001b[43m(\u001b[49m\u001b[43mpath\u001b[49m\u001b[43m)\u001b[49m \u001b[38;5;28;01mas\u001b[39;00m t:\n\u001b[1;32m     15\u001b[0m   t\u001b[38;5;241m.\u001b[39mresize((\u001b[38;5;241m600\u001b[39m,\u001b[38;5;241m400\u001b[39m), Image\u001b[38;5;241m.\u001b[39mBICUBIC)\u001b[38;5;241m.\u001b[39mconvert(\u001b[38;5;124m'\u001b[39m\u001b[38;5;124mRGB\u001b[39m\u001b[38;5;124m'\u001b[39m)\u001b[38;5;241m.\u001b[39msave(new_path, \u001b[38;5;124m'\u001b[39m\u001b[38;5;124mJPEG\u001b[39m\u001b[38;5;124m'\u001b[39m)\n",
      "File \u001b[0;32m/private/var/containers/Bundle/Application/8145CD64-AADF-460C-8D79-173C1974022C/Carnets.app/Library/lib/python3.11/site-packages/PIL/Image.py:3186\u001b[0m, in \u001b[0;36mopen\u001b[0;34m(fp, mode, formats)\u001b[0m\n\u001b[1;32m   3184\u001b[0m \u001b[38;5;28;01mfor\u001b[39;00m message \u001b[38;5;129;01min\u001b[39;00m accept_warnings:\n\u001b[1;32m   3185\u001b[0m     warnings\u001b[38;5;241m.\u001b[39mwarn(message)\n\u001b[0;32m-> 3186\u001b[0m \u001b[38;5;28;01mraise\u001b[39;00m UnidentifiedImageError(\n\u001b[1;32m   3187\u001b[0m     \u001b[38;5;124m\"\u001b[39m\u001b[38;5;124mcannot identify image file \u001b[39m\u001b[38;5;132;01m%r\u001b[39;00m\u001b[38;5;124m\"\u001b[39m \u001b[38;5;241m%\u001b[39m (filename \u001b[38;5;28;01mif\u001b[39;00m filename \u001b[38;5;28;01melse\u001b[39;00m fp)\n\u001b[1;32m   3188\u001b[0m )\n",
      "\u001b[0;31mUnidentifiedImageError\u001b[0m: cannot identify image file '/private/var/mobile/Library/Mobile Documents/com~apple~CloudDocs/Documents/GitHub/Automate_updating_catalog_information/supplier-data/images/.002.tiff.icloud'"
     ]
    }
   ],
   "source": [
    "#!/usr/bin/env python3\n",
    "import os\n",
    "import json\n",
    "import requests\n",
    "from ChangeImage import change_image\n",
    "from supplier_image_upload import img_upload\n",
    "from reports import make_body\n",
    "from reports import generate\n",
    "import datetime\n",
    "\n",
    "\n",
    "def create_dd(osld, fd):# Iterate over the files in the description directory\n",
    "  ddl = []\n",
    "  for fi in osld:\n",
    "    filepath = os.path.join(fd, fi)\n",
    "    if not fi.startswith('.'):\n",
    "      with open(filepath, \"r\") as f:\n",
    "      # Extract the name, weight, description, and image\n",
    "        fruit = f.readline().strip()\n",
    "        weight = int(f.readline().strip().replace('lbs', ''))\n",
    "        description = f.read().strip()\n",
    "        img = os.path.splitext(fi)[0] + 'jpeg'\n",
    "        dd = {\"name\": fruit, \"weight\": weight, \"description\": description,\"image\": img}\n",
    "        ddl.append(dd)\n",
    "  return ddl\n",
    "  #\"\"\"Turns the data in dll into a list of lists.\"\"\"\n",
    "#def json_dict(ddl):\n",
    "  #body = ''\n",
    "  #\"\"\"Turns the data in data into a list of lists.\"\"\"\n",
    "  #for item in ddl:\n",
    "    #name = item['name']\n",
    "    #weight = f\"{item['weight']} lbs\"  # Use 'N/A' if 'weight' key is missing\n",
    "    #weight = f\"{item['weight']} lbs\" if 'weight' in item else 'N/A'\n",
    "    #entry = f\"{name}<br/><br/> {weight}<br/><br/>\"\n",
    "    #body += entry\n",
    "  #print(body)\n",
    "  #return body\n",
    "#def convert_to_json(ddl):\n",
    "#  ddj = json.dumps(ddl)\n",
    "#  return ddj\n",
    "\n",
    "\n",
    "def main():\n",
    "  fd = os.path.join(os.getcwd(),'supplier-data', 'descriptions')\n",
    "  osld = os.listdir(fd)\n",
    "  url = \"https://httpbin.org/post\"\n",
    "\n",
    "#change_image()\n",
    "#img_upload()\n",
    "  ddl = create_dd(osld, fd)\n",
    "  body = make_body(ddl)\n",
    "  title = f\"Processed Update on {datetime.datetime.today().date()}.\"\n",
    "  savefile = '/tmp/processed.pdf'\n",
    "#ddj = convert_to_json(ddl)\n",
    "\n",
    "  generate(savefile, title, body)\n",
    "\n",
    "\n",
    "\n",
    "if __name__ == '__main__':\n",
    "  main()"
   ]
  },
  {
   "cell_type": "code",
   "execution_count": null,
   "metadata": {},
   "outputs": [],
   "source": []
  }
 ],
 "metadata": {
  "kernelspec": {
   "display_name": "Python 3 (ipykernel)",
   "language": "python",
   "name": "python3"
  },
  "language_info": {
   "codemirror_mode": {
    "name": "ipython",
    "version": 3
   },
   "file_extension": ".py",
   "mimetype": "text/x-python",
   "name": "python",
   "nbconvert_exporter": "python",
   "pygments_lexer": "ipython3",
   "version": "3.11.0"
  }
 },
 "nbformat": 4,
 "nbformat_minor": 2
}
