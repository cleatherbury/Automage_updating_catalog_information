{
 "cells": [
  {
   "cell_type": "code",
   "execution_count": 4,
   "metadata": {},
   "outputs": [
    {
     "name": "stdout",
     "output_type": "stream",
     "text": [
      "message sent successfully\n"
     ]
    }
   ],
   "source": [
    "#!/usr/bin/env python3\n",
    "import shutil\n",
    "import psutil\n",
    "from emails import generate_email\n",
    "from emails import send_message\n",
    "import os, sys\n",
    "import socket\n",
    "\n",
    "def check_disk_usage(disk):\n",
    "  du = shutil.disk_usage(disk)\n",
    "  free = du.free/du.total*100\n",
    "  return free > 20\n",
    "\n",
    "def check_cpu_usage():\n",
    "    cp = psutil.cpu_percent(1)\n",
    "    return cp < 80\n",
    "\n",
    "def check_memory():\n",
    "  memory = psutil.virtual_memory()\n",
    "  return memory.available > 500 / 1024**2\n",
    "\n",
    "def resolve_host():\n",
    "  localhostip = socket.gethostbyname(\"localhost\")\n",
    "  return localhostip == \"127.0.0.1\"\n",
    "\n",
    "def auto_warn():\n",
    "  sender = \"automation@example.com\"\n",
    "  recipient = \"{}@example.com\".format(os.environ[\"USER\"])\n",
    "  body = \"Please check your system and resolve the issue as soon as possible.\"\n",
    "  error_list = []\n",
    "\n",
    "  if not check_cpu_usage():\n",
    "    error_list.append(\"Error - CPU usage is over 80%\")\n",
    "  if not check_disk_usage(\"/\"):\n",
    "    error_list.append(\"Error - Available disk space is less than 20%\")\n",
    "  if not check_memory():\n",
    "    error_list.append(\"Error - Available memory is less than 500MB\")\n",
    "  if not resolve_host:\n",
    "    error_list.append(\"Error - localhost cannot be resolved to 127.0.0.1\")\n",
    "  if error_list:\n",
    "    subject = ', and '.join(error_list)\n",
    "    message = generate_email(sender, recipient, subject, body)\n",
    "    send_message(message)\n",
    "\n",
    "if __name__ == \"__main__\":\n",
    "  auto_warn()"
   ]
  }
 ],
 "metadata": {
  "kernelspec": {
   "display_name": "Python 3",
   "language": "python",
   "name": "python3"
  },
  "language_info": {
   "codemirror_mode": {
    "name": "ipython",
    "version": 3
   },
   "file_extension": ".py",
   "mimetype": "text/x-python",
   "name": "python",
   "nbconvert_exporter": "python",
   "pygments_lexer": "ipython3",
   "version": "3.11.4"
  },
  "orig_nbformat": 4
 },
 "nbformat": 4,
 "nbformat_minor": 2
}
