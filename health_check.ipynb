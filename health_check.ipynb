{
 "cells": [
  {
   "cell_type": "code",
   "execution_count": 2,
   "metadata": {},
   "outputs": [],
   "source": [
    "#!/usr/bin/env python3\n",
    "import shutil\n",
    "import psutil\n",
    "from emails import generate\n",
    "from emails import send\n",
    "import os, sys\n",
    "import socket\n",
    "\n",
    "def check_disk_usage(disk):\n",
    "  du = shutil.disk_usage(disk)\n",
    "  free = du.free/du.total*100\n",
    "  return free > 20\n",
    "\n",
    "def check_cpu_usage():\n",
    "    cp = psutil.cpu_percent(1)\n",
    "    return cp < 80\n",
    "\n",
    "def check_memory():\n",
    "  memory = psutil.virtual_memory()\n",
    "  return memory.available > 500 * 1024 * 1024\n",
    "\n",
    "def check_host():\n",
    "  localhost = socket.gethostbyname(\"localhost\")\n",
    "  return localhost == \"127.0.0.1\"\n",
    "\n",
    "def email_warning(error):\n",
    "  sender = \"automation@example.com\"\n",
    "  receiver = \"{}@example.com\".format(os.environ[\"USER\"])\n",
    "  subject = error\n",
    "  body = \"Please check your system and resolve the issue as soon as possible.\"\n",
    "  message = emails.generate_email(sender, receiver, subject, body)\n",
    "  emails.send_email(message)\n",
    "  if not check_cpu_usage():\n",
    "    subject = \"Error - CPU usage is over 80%\"\n",
    "  elif not check_disk_usage(\"/\"):\n",
    "    subject = \"Error - Available disk space is less than 20%\"\n",
    "  elif not check_memory():\n",
    "    subject =  \"Error - \"Available memory is less than 500MB\"\n",
    "  elif not localhost == \"127.0.0.1\":\n",
    "    subject = \"Error - localhost cannot be resolved to 127.0.0.1\"\n",
    "\n"
   ]
  }
 ],
 "metadata": {
  "kernelspec": {
   "display_name": "Python 3",
   "language": "python",
   "name": "python3"
  },
  "language_info": {
   "codemirror_mode": {
    "name": "ipython",
    "version": 3
   },
   "file_extension": ".py",
   "mimetype": "text/x-python",
   "name": "python",
   "nbconvert_exporter": "python",
   "pygments_lexer": "ipython3",
   "version": "3.10.1"
  },
  "orig_nbformat": 4
 },
 "nbformat": 4,
 "nbformat_minor": 2
}
