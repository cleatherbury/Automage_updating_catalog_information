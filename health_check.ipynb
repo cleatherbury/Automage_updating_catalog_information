{
 "cells": [
  {
   "cell_type": "code",
   "execution_count": 2,
   "metadata": {},
   "outputs": [],
   "source": [
    "#!/usr/bin/env python3\n",
    "import shutil\n",
    "import psutil\n",
    "from email import generate\n",
    "from email import send\n",
    "import os\n",
    "import socket\n",
    "\n",
    "def check_disk_usage(disk):\n",
    "  du = shutil.disk_usage(disk)\n",
    "  free = du.free/du.total*100\n",
    "  return free > 20\n",
    "\n",
    "def check_cpu_usage():\n",
    "    cp = psutil.cpu_percent(1)\n",
    "    return cp < 80\n",
    "\n",
    "def check_memory():\n",
    "  memory = psutil.virtual_memory()\n",
    "  return memory.available > 500 * 1024 * 1024\n",
    "\n",
    "def check_host():\n",
    "  localhost = socket.gethostbyname(\"localhost\")\n",
    "  return localhost == \"127.0.0.1\"\n",
    "\n",
    "def main():\n",
    "  data = {\n",
    "  \"case\": \"subject line\",\n",
    "  \"CPU usage is over 80%\": \"Error - CPU usage is over 80%\",\n",
    "  \"Available disk space is lower than 20%\": \"Error - Available disk space is less than 20%\",\n",
    "  \"available memory is less than 500MB\": \"Error - Available memory is less than 500MB\",\n",
    "  'hostname \"localhost\" cannot be resolved to \"127.0.0.1\"': 'Error - localhost cannot be resolved to 127.0.0.1'\n",
    "  }\n",
    "  DL = [{\"case\": k, \"subject line\": v} for k, v in data.items()]\n",
    "  IterDL = [{'case': 'case', 'subject line': 'subject line'}, {'case': 'CPU usage is over 80%', 'subject line': 'Error - CPU usage is over 80%'}, {'case': 'Available disk space is lower than 20%', 'subject line': 'Error - Available disk space is less than 20%'}, {'case': 'available memory is less than 500MB', 'subject line': 'Error - Available memory is less than 500MB'}, {'case': 'hostname \"localhost\" cannot be resolved to \"127.0.0.1\"', 'subject line': 'Error - localhost cannot be resolved to 127.0.0.1'}]\n",
    "  subject = ''\n",
    "  if not check_cpu_usage():\n",
    "    subject = DL[1]['subject line']\n",
    "  elif not check_disk_usage(\"/\"):\n",
    "    subject = DL[2]['subject line']\n",
    "  elif not check_memory():\n",
    "    subject = DL[3]['subject line']\n",
    "  elif not localhost == \"127.0.0.1\":\n",
    "    subject = f\"{DL[4]['subject line']}\"\n",
    "  \n",
    "  sender = 'automation@example.com'\n",
    "  recipient = f\"{os.environ.get('USER')}@example.com\"\n",
    "  body = 'Please check your system and resolve the issue as soon as possible.'\n",
    "  attachment_path=None\n",
    "  message = generate(sender, recipient, subject, body, attachment_path)\n",
    "  send(message)\n",
    "\n",
    "if __name__ == '__main__':\n",
    "  main()\n"
   ]
  }
 ],
 "metadata": {
  "kernelspec": {
   "display_name": "Python 3",
   "language": "python",
   "name": "python3"
  },
  "language_info": {
   "codemirror_mode": {
    "name": "ipython",
    "version": 3
   },
   "file_extension": ".py",
   "mimetype": "text/x-python",
   "name": "python",
   "nbconvert_exporter": "python",
   "pygments_lexer": "ipython3",
   "version": "3.10.1"
  },
  "orig_nbformat": 4
 },
 "nbformat": 4,
 "nbformat_minor": 2
}
