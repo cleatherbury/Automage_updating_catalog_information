{
 "cells": [
  {
   "cell_type": "code",
   "execution_count": 3,
   "metadata": {},
   "outputs": [
    {
     "name": "stdout",
     "output_type": "stream",
     "text": [
      "Blackberry<br/><br/> 150 lbs<br/><br/>Avocado<br/><br/> 200 lbs<br/><br/>Apple<br/><br/> 500 lbs<br/><br/>Kiwifruit<br/><br/> 250 lbs<br/><br/>Grape<br/><br/> 200 lbs<br/><br/>Watermelon<br/><br/> 500 lbs<br/><br/>Lemon<br/><br/> 300 lbs<br/><br/>Mango<br/><br/> 300 lbs<br/><br/>Strawberry<br/><br/> 240 lbs<br/><br/>Plum<br/><br/> 150 lbs<br/><br/>\n"
     ]
    }
   ],
   "source": [
    "#!/usr/bin/env python3\n",
    "import os\n",
    "import json\n",
    "import requests\n",
    "from ChangeImage import change_image\n",
    "from supplier_image_upload import img_upload\n",
    "from reports import json_dict\n",
    "from reports import generate\n",
    "import datetime\n",
    "\n",
    "\n",
    "def create_dd(osld, fd):# Iterate over the files in the feedback directory\n",
    "  ddl = []\n",
    "  for fi in osld:\n",
    "    filepath = os.path.join(fd, fi)\n",
    "    if not fi.startswith('.'):\n",
    "      with open(filepath, \"r\") as f:\n",
    "      # Extract the title, name, date, and feedback \n",
    "        fruit = f.readline().strip()\n",
    "        weight = int(f.readline().strip().replace('lbs', ''))\n",
    "        description = f.read().strip()\n",
    "        img = os.path.splitext(fi)[0] + 'jpeg'\n",
    "        dd = {\"name\": fruit, \"weight\": weight, \"description\": description,\"image\": img}\n",
    "        ddl.append(dd)\n",
    "  return ddl\n",
    "  #\"\"\"Turns the data in dll into a list of lists.\"\"\"\n",
    "def json_dict(ddl):\n",
    "  body = ''\n",
    "  #\"\"\"Turns the data in data into a list of lists.\"\"\"\n",
    "  for item in ddl:\n",
    "    name = item['name']\n",
    "    #weight = f\"{item['weight']} lbs\"  # Use 'N/A' if 'weight' key is missing\n",
    "    weight = f\"{item['weight']} lbs\" if 'weight' in item else 'N/A'\n",
    "    entry = f\"{name}<br/><br/> {weight}<br/><br/>\"\n",
    "    body += entry\n",
    "  print(body)\n",
    "  return body\n",
    "#def convert_to_json(ddl):\n",
    "#  ddj = json.dumps(ddl)\n",
    "#  return ddj\n",
    "\n",
    "\n",
    "def main():\n",
    "  fd = os.path.join(os.getcwd(),'supplier-data', 'descriptions')\n",
    "  osld = os.listdir(fd)\n",
    "  url = \"https://httpbin.org/post\"\n",
    "\n",
    "#change_image()\n",
    "#img_upload()\n",
    "  ddl = create_dd(osld, fd)\n",
    "  body = json_dict(ddl)\n",
    "  title = f\"Processed Update on {datetime.datetime.today().date()}.\"\n",
    "  savefile = '/tmp/processed.pdf'\n",
    "#ddj = convert_to_json(ddl)\n",
    "\n",
    "  generate(savefile, title, body)\n",
    "\n",
    "\n",
    "\n",
    "if __name__ == '__main__':\n",
    "  main()"
   ]
  }
 ],
 "metadata": {
  "kernelspec": {
   "display_name": "Python 3",
   "language": "python",
   "name": "python3"
  },
  "language_info": {
   "codemirror_mode": {
    "name": "ipython",
    "version": 3
   },
   "file_extension": ".py",
   "mimetype": "text/x-python",
   "name": "python",
   "nbconvert_exporter": "python",
   "pygments_lexer": "ipython3",
   "version": "3.10.1"
  },
  "orig_nbformat": 4
 },
 "nbformat": 4,
 "nbformat_minor": 2
}
