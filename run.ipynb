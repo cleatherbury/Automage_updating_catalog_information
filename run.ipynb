{
 "cells": [
  {
   "cell_type": "code",
   "execution_count": 2,
   "metadata": {},
   "outputs": [
    {
     "name": "stdout",
     "output_type": "stream",
     "text": [
      "Data uploaded successfully: {'name': 'Grape', 'weight': 200, 'description': 'Grapes have up to 30% of sugar. A large amount of fruit acid in grapes helps digestion. Eating proper amount of grapes can strengthen the spleen and stomach. Grapes also contain the minerals calcium, potassium, phosphorus, iron, glucose, fructose, protein, tartaric acid, and various vitamins, which have strong nutritional functions and improve the function of the human body.', 'image': '004.jpeg'}\n",
      "Data uploaded successfully: {'name': 'Watermelon', 'weight': 500, 'description': 'Watermelon is good for relieving heat, eliminating annoyance and quenching thirst. It contains a lot of water, which is good for relieving the symptoms of acute fever immediately. The sugar and salt contained in watermelon can diuretic and eliminate kidney inflammation. Watermelon also contains substances that can lower blood pressure.', 'image': '010.jpeg'}\n",
      "Data uploaded successfully: {'name': 'Plum', 'weight': 150, 'description': 'Plums are rich in sugar, vitamins, fruit acids, amino acids and other nutrients. With high nutritional value, Plums have outstanding health-care functions, which includes refreshing and nourishing liver, relieving depression and poisoning, and clearing dampness and heat of the human body.', 'image': '008.jpeg'}\n",
      "Data uploaded successfully: {'name': 'Apple', 'weight': 500, 'description': 'Apple is one of the most nutritious and healthiest fruits. It is very rich in antioxidants and dietary fiber. Moderate consumption can not only increase satiety, but also help promote bowel movements. Apple also contains minerals such as calcium and magnesium, which can help prevent and delay bone loss and maintain bone health. It is good for young and old.', 'image': '001.jpeg'}\n",
      "Data uploaded successfully: {'name': 'Strawberry', 'weight': 240, 'description': 'Strawberries are rich in carotene and vitamin A, which can alleviate night blindness, maintain the health of epithelial tissues, nourish the liver, and promote body growth and development. Strawberries contains large amount of dietary fiber as well, which can promote gastrointestinal motility and food digestion in the gastrointestinal tract.', 'image': '009.jpeg'}\n",
      "Data uploaded successfully: {'name': 'Plum', 'weight': 150, 'description': 'Plums are rich in sugar, vitamins, fruit acids, amino acids and other nutrients. With high nutritional value, Plums have outstanding health-care functions, which includes refreshing and nourishing liver, relieving depression and poisoning, and clearing dampness and heat of the human body.', 'image': '008.jpeg'}\n",
      "Error uploading data: 504 Server Error: Gateway Time-out for url: https://httpbin.org/post\n",
      "Retrying in 5 seconds...\n",
      "Data uploaded successfully: {'name': 'Blackberry', 'weight': 150, 'description': 'Blackberries have high nutritional value and are excellent fruit for health. It’s rich in nutrients, various amino acids and trace elements necessary for the human body. They are good at promoting blood coagulation, delaying aging, improving immunity and reducing blood pressure and blood lipids. Blackberries can be consumed directly as fruit or made into jam and fruit wine.', 'image': '003.jpeg'}\n",
      "Data uploaded successfully: {'name': 'Avocado', 'weight': 200, 'description': 'Avocado contains large amount of oleic acid, a type of monounsaturated fat that can replace saturated fat in the diet, which is very effective in reducing cholesterol levels. Avocado is also high in fiber. Its soluble fiber can remove excess cholesterol from the body, while its insoluble fiber helps keep the digestive system functioning and prevent constipation.', 'image': '002.jpeg'}\n",
      "Data uploaded successfully: {'name': 'Mango', 'weight': 300, 'description': 'Mango contains higher levels of vitamin C than ordinary fruits. Eating mango can also reduce cholesterol and triglycerides, and help prevent cardiovascular disease. Due to its high level of vitamins, regular consumption of mango play an important role in improving body function and moisturizing the skin.', 'image': '007.jpeg'}\n",
      "Data uploaded successfully: {'name': 'Lemon', 'weight': 300, 'description': 'Lemon is rich in vitamin C, which can improve immunity, accelerate wound healing and prevent colds. In the long run, it can lower the chance of developing cancer. Lemon juice helps reduce the burden on the digestive system and promotes the release of toxins from the body.', 'image': '006.jpeg'}\n",
      "Data uploaded successfully: {'name': 'Kiwifruit', 'weight': 250, 'description': 'Kiwifruit contains rich vitamin C, which can strengthen the immune system and supplement the nutrients consumed by the brain. Its perfect ratio of low sodium and high potassium can replenish the energy lost by working long hours.', 'image': '005.jpeg'}\n",
      "Upload complete.\n"
     ]
    }
   ],
   "source": [
    "#!/usr/bin/env python3\n",
    "import os, sys\n",
    "import json\n",
    "import requests\n",
    "\n",
    "fd = \"supplier-data/descriptions/\"\n",
    "url = \"http://34.83.175.224/fruits/\"\n",
    "\n",
    "osld = os.listdir(fd)\n",
    "\n",
    "\n",
    "for file in osld:\n",
    "  if file.endswith('txt'):\n",
    "    with open(fd + file, \"r\") as f:\n",
    "      fruit = os.path.splitext(file)[0]\n",
    "      data = f.read()\n",
    "      data = data.split('\\n')\n",
    "      fdict = {\"name\": data[0], \"weight\": int(data[1].strip(\" lbs\")), \"description\": data[2], \"image_name\": fruit + \".jpeg\"}\n",
    "      print(fdict)\n",
    "      r = requests.post(url, json=fdict)\n",
    "      r.raise_for_status()\n",
    "      print(r.request.url)\n",
    "      print(r.status_code)"
   ]
  }
 ],
 "metadata": {
  "kernelspec": {
   "display_name": "Python 3 (ipykernel)",
   "language": "python",
   "name": "python3"
  },
  "language_info": {
   "codemirror_mode": {
    "name": "ipython",
    "version": 3
   },
   "file_extension": ".py",
   "mimetype": "text/x-python",
   "name": "python",
   "nbconvert_exporter": "python",
   "pygments_lexer": "ipython3",
   "version": "3.11.4"
  }
 },
 "nbformat": 4,
 "nbformat_minor": 2
}
