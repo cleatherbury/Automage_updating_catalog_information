{
 "cells": [
  {
   "cell_type": "code",
   "execution_count": 1,
   "metadata": {},
   "outputs": [],
   "source": [
    "#!/usr/bin/env python3\n",
    "import email.message\n",
    "import mimetypes\n",
    "import os.path\n",
    "import smtplib\n",
    "\n",
    "def generate_email(sender, recipient, subject, body, attachment_path=None):\n",
    "  \"\"\"Creates an email with an attachement.\"\"\"\n",
    "  # Basic Email formatting\n",
    "  message = email.message.EmailMessage()\n",
    "  message[\"Subject\"] = subject\n",
    "  message[\"From\"] = sender\n",
    "  message[\"To\"] = recipient\n",
    "  message.set_content(body)\n",
    "  # Adding email attahment\n",
    "  if attachment_path is not None:\n",
    "    attachment_filename = os.path.basename(attachment_path)\n",
    "    mime_type, _ = mimetypes.guess_type(attachment_path)\n",
    "    mime_type, mime_subtype = mime_type.split('/', 1)\n",
    "    # Process the attachment and add it to the email\n",
    "    with open(attachment_path, 'rb') as attachment_file:\n",
    "      message.add_attachment(attachment_file.read(),\n",
    "                            maintype=mime_type,\n",
    "                            subtype=mime_subtype,\n",
    "                           filename=attachment_filename)\n",
    "  return message\n",
    "\n",
    "def send_message(message):\n",
    "  \"\"\"Sends the message to the configured SMTP server.\"\"\"\n",
    "  try:\n",
    "    mail_server = smtplib.SMTP('localhost') #Connect to SMTP and sends the email\n",
    "    mail_server.send_message(message)\n",
    "    print('message sent successfully')\n",
    "  except SMTPResponseException as e: #Checks exceptions\n",
    "    error_code = e.smtp_code\n",
    "    error_messsage = e.smtp_error\n",
    "    print(str(error_code) + ' - ' + str(error_messsage))\n",
    "  finally:\n",
    "    if mail_server is not None:  # Check if mail_server was created before attempting to quit\n",
    "      mail_server.quit()"
   ]
  }
 ],
 "metadata": {
  "kernelspec": {
   "display_name": "Python 3",
   "language": "python",
   "name": "python3"
  },
  "language_info": {
   "codemirror_mode": {
    "name": "ipython",
    "version": 3
   },
   "file_extension": ".py",
   "mimetype": "text/x-python",
   "name": "python",
   "nbconvert_exporter": "python",
   "pygments_lexer": "ipython3",
   "version": "3.10.1"
  },
  "orig_nbformat": 4
 },
 "nbformat": 4,
 "nbformat_minor": 2
}
