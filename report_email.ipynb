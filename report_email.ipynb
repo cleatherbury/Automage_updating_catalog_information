{
 "cells": [
  {
   "cell_type": "code",
   "execution_count": 2,
   "metadata": {},
   "outputs": [
    {
     "name": "stdout",
     "output_type": "stream",
     "text": [
      "Blackberry<br/><br/> 150 lbs<br/><br/>Avocado<br/><br/> 200 lbs<br/><br/>Apple<br/><br/> 500 lbs<br/><br/>Kiwifruit<br/><br/> 250 lbs<br/><br/>Grape<br/><br/> 200 lbs<br/><br/>Watermelon<br/><br/> 500 lbs<br/><br/>Lemon<br/><br/> 300 lbs<br/><br/>Mango<br/><br/> 300 lbs<br/><br/>Strawberry<br/><br/> 240 lbs<br/><br/>Plum<br/><br/> 150 lbs<br/><br/>\n",
      "message sent successfully\n"
     ]
    }
   ],
   "source": [
    "#!/usr/bin/env python3\n",
    "import os, datetime\n",
    "import reports\n",
    "import emails\n",
    "\n",
    "def generate_pdf(fd):# Iterate over the files in the feedback directory\n",
    "  pdf = ''\n",
    "  for fi in osld:\n",
    "    if fi.endswith('.txt'):\n",
    "      with open(os.path.join(fd, fi), \"r\") as f:\n",
    "        #Extract the name, and weight\n",
    "        lines = f.readlines()\n",
    "        fruit = lines[0].strip()\n",
    "        weight = int(lines[1].strip().replace('lbs', ''))\n",
    "        pdf += f\"{fruit}<br/><br/> {weight} lbs<br/><br/>\"\n",
    "  print(pdf)\n",
    "  return pdf\n",
    "\n",
    "if __name__ == \"__main__\":\n",
    "    #directory information\n",
    "  cwd = os.getcwd()\n",
    "  fd = cwd + '/supplier-data/descriptions/'\n",
    "  osld = os.listdir(fd)\n",
    "  #report data\n",
    "  title = \"Process Updated on {}\".format(datetime.date.today())\n",
    "  pdf = generate_pdf(fd)\n",
    "  #generate pdf report\n",
    "  reports.generate_report(\"/tmp/processed.pdf\", title, pdf)\n",
    "  #email data\n",
    "  sender = \"automation@example.com\"\n",
    "  receiver = \"{}@example.com\".format(os.environ[\"USER\"])\n",
    "  subject = \"Upload Completed - Online Fruit Store\"\n",
    "  body = \"All fruits are uploaded to our website successfully. A detailed list is attached to this email.\"\n",
    "  #generate email for the online fruit store report and pdf attachment\n",
    "  message = emails.generate_email(sender, receiver, subject, body, \"/tmp/processed.pdf\")\n",
    "  emails.send_message(message)"
   ]
  }
 ],
 "metadata": {
  "kernelspec": {
   "display_name": "Python 3",
   "language": "python",
   "name": "python3"
  },
  "language_info": {
   "codemirror_mode": {
    "name": "ipython",
    "version": 3
   },
   "file_extension": ".py",
   "mimetype": "text/x-python",
   "name": "python",
   "nbconvert_exporter": "python",
   "pygments_lexer": "ipython3",
   "version": "3.11.4"
  },
  "orig_nbformat": 4
 },
 "nbformat": 4,
 "nbformat_minor": 2
}
